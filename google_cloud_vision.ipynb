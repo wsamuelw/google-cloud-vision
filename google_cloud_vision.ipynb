{
  "nbformat": 4,
  "nbformat_minor": 0,
  "metadata": {
    "colab": {
      "name": "google cloud vision.ipynb",
      "provenance": [],
      "collapsed_sections": [],
      "authorship_tag": "ABX9TyPYdEjcHY4/Nl7yoCfiKIT0",
      "include_colab_link": true
    },
    "kernelspec": {
      "name": "python3",
      "display_name": "Python 3"
    }
  },
  "cells": [
    {
      "cell_type": "markdown",
      "metadata": {
        "id": "view-in-github",
        "colab_type": "text"
      },
      "source": [
        "<a href=\"https://colab.research.google.com/github/wsamuelw/google-cloud-vision/blob/master/google_cloud_vision.ipynb\" target=\"_parent\"><img src=\"https://colab.research.google.com/assets/colab-badge.svg\" alt=\"Open In Colab\"/></a>"
      ]
    },
    {
      "cell_type": "code",
      "metadata": {
        "id": "333NbmA-xRBl",
        "colab_type": "code",
        "outputId": "41ba62ad-bf36-4938-89c1-261836b5150d",
        "colab": {
          "base_uri": "https://localhost:8080/",
          "height": 343
        }
      },
      "source": [
        "# install the package\n",
        "!pip install google-cloud-vision"
      ],
      "execution_count": 1,
      "outputs": [
        {
          "output_type": "stream",
          "text": [
            "Requirement already satisfied: google-cloud-vision in /usr/local/lib/python3.6/dist-packages (1.0.0)\n",
            "Requirement already satisfied: google-api-core[grpc]<2.0.0dev,>=1.14.0 in /usr/local/lib/python3.6/dist-packages (from google-cloud-vision) (1.16.0)\n",
            "Requirement already satisfied: pytz in /usr/local/lib/python3.6/dist-packages (from google-api-core[grpc]<2.0.0dev,>=1.14.0->google-cloud-vision) (2018.9)\n",
            "Requirement already satisfied: googleapis-common-protos<2.0dev,>=1.6.0 in /usr/local/lib/python3.6/dist-packages (from google-api-core[grpc]<2.0.0dev,>=1.14.0->google-cloud-vision) (1.51.0)\n",
            "Requirement already satisfied: google-auth<2.0dev,>=0.4.0 in /usr/local/lib/python3.6/dist-packages (from google-api-core[grpc]<2.0.0dev,>=1.14.0->google-cloud-vision) (1.7.2)\n",
            "Requirement already satisfied: requests<3.0.0dev,>=2.18.0 in /usr/local/lib/python3.6/dist-packages (from google-api-core[grpc]<2.0.0dev,>=1.14.0->google-cloud-vision) (2.23.0)\n",
            "Requirement already satisfied: six>=1.10.0 in /usr/local/lib/python3.6/dist-packages (from google-api-core[grpc]<2.0.0dev,>=1.14.0->google-cloud-vision) (1.12.0)\n",
            "Requirement already satisfied: protobuf>=3.4.0 in /usr/local/lib/python3.6/dist-packages (from google-api-core[grpc]<2.0.0dev,>=1.14.0->google-cloud-vision) (3.10.0)\n",
            "Requirement already satisfied: setuptools>=34.0.0 in /usr/local/lib/python3.6/dist-packages (from google-api-core[grpc]<2.0.0dev,>=1.14.0->google-cloud-vision) (46.3.0)\n",
            "Requirement already satisfied: grpcio<2.0dev,>=1.8.2; extra == \"grpc\" in /usr/local/lib/python3.6/dist-packages (from google-api-core[grpc]<2.0.0dev,>=1.14.0->google-cloud-vision) (1.28.1)\n",
            "Requirement already satisfied: rsa<4.1,>=3.1.4 in /usr/local/lib/python3.6/dist-packages (from google-auth<2.0dev,>=0.4.0->google-api-core[grpc]<2.0.0dev,>=1.14.0->google-cloud-vision) (4.0)\n",
            "Requirement already satisfied: pyasn1-modules>=0.2.1 in /usr/local/lib/python3.6/dist-packages (from google-auth<2.0dev,>=0.4.0->google-api-core[grpc]<2.0.0dev,>=1.14.0->google-cloud-vision) (0.2.8)\n",
            "Requirement already satisfied: cachetools<3.2,>=2.0.0 in /usr/local/lib/python3.6/dist-packages (from google-auth<2.0dev,>=0.4.0->google-api-core[grpc]<2.0.0dev,>=1.14.0->google-cloud-vision) (3.1.1)\n",
            "Requirement already satisfied: urllib3!=1.25.0,!=1.25.1,<1.26,>=1.21.1 in /usr/local/lib/python3.6/dist-packages (from requests<3.0.0dev,>=2.18.0->google-api-core[grpc]<2.0.0dev,>=1.14.0->google-cloud-vision) (1.24.3)\n",
            "Requirement already satisfied: idna<3,>=2.5 in /usr/local/lib/python3.6/dist-packages (from requests<3.0.0dev,>=2.18.0->google-api-core[grpc]<2.0.0dev,>=1.14.0->google-cloud-vision) (2.9)\n",
            "Requirement already satisfied: chardet<4,>=3.0.2 in /usr/local/lib/python3.6/dist-packages (from requests<3.0.0dev,>=2.18.0->google-api-core[grpc]<2.0.0dev,>=1.14.0->google-cloud-vision) (3.0.4)\n",
            "Requirement already satisfied: certifi>=2017.4.17 in /usr/local/lib/python3.6/dist-packages (from requests<3.0.0dev,>=2.18.0->google-api-core[grpc]<2.0.0dev,>=1.14.0->google-cloud-vision) (2020.4.5.1)\n",
            "Requirement already satisfied: pyasn1>=0.1.3 in /usr/local/lib/python3.6/dist-packages (from rsa<4.1,>=3.1.4->google-auth<2.0dev,>=0.4.0->google-api-core[grpc]<2.0.0dev,>=1.14.0->google-cloud-vision) (0.4.8)\n"
          ],
          "name": "stdout"
        }
      ]
    },
    {
      "cell_type": "code",
      "metadata": {
        "id": "7ruqYW0iypSf",
        "colab_type": "code",
        "colab": {}
      },
      "source": [
        "# load the package\n",
        "from google.cloud import vision"
      ],
      "execution_count": 0,
      "outputs": []
    },
    {
      "cell_type": "code",
      "metadata": {
        "id": "6bQDZQzAytgv",
        "colab_type": "code",
        "colab": {}
      },
      "source": [
        "# you will need to go to https://console.cloud.google.com/apis/credentials/serviceaccountkey to get a json file\n",
        "# then, upload the json file here (look for the folder icon on the left hand side to upload file)\n",
        "\n",
        "# define the dir. for the json \n",
        "# rename whatever you named the json file e.g. mine = google vision key\n",
        "import os\n",
        "os.environ[\"GOOGLE_APPLICATION_CREDENTIALS\"]=\"google vision key.json\""
      ],
      "execution_count": 0,
      "outputs": []
    },
    {
      "cell_type": "code",
      "metadata": {
        "id": "YkyirZvmzoXD",
        "colab_type": "code",
        "colab": {}
      },
      "source": [
        "# create a client\n",
        "# you will need to check the step above if you see an error \n",
        "client = vision.ImageAnnotatorClient()"
      ],
      "execution_count": 0,
      "outputs": []
    },
    {
      "cell_type": "code",
      "metadata": {
        "id": "aPXqcKrN3z3D",
        "colab_type": "code",
        "outputId": "ebda135d-47e8-4c37-db25-ba67217fbcdc",
        "colab": {
          "base_uri": "https://localhost:8080/",
          "height": 269
        }
      },
      "source": [
        "# load package to display image\n",
        "import matplotlib.pyplot as plt\n",
        "import matplotlib.image as mpimg\n",
        "\n",
        "input_image = mpimg.imread('jennifer hawkins.jpg')\n",
        "imgplot = plt.imshow(input_image)"
      ],
      "execution_count": 5,
      "outputs": [
        {
          "output_type": "display_data",
          "data": {
            "image/png": "[encoded data removed]",
            "text/plain": [
              "<Figure size 432x288 with 1 Axes>"
            ]
          },
          "metadata": {
            "tags": [],
            "needs_background": "light"
          }
        }
      ]
    },
    {
      "cell_type": "code",
      "metadata": {
        "id": "Etq5KGEr3TYF",
        "colab_type": "code",
        "colab": {}
      },
      "source": [
        "image_to_open = 'jennifer hawkins.jpg'\n",
        "\n",
        "with open(image_to_open, 'rb') as image_file:\n",
        "    input_content = image_file.read()"
      ],
      "execution_count": 0,
      "outputs": []
    },
    {
      "cell_type": "code",
      "metadata": {
        "id": "V6D2j9D-4Ny_",
        "colab_type": "code",
        "colab": {}
      },
      "source": [
        "# create a Vision object which will allow you to send a request to proceed with text recognition\n",
        "input_image = vision.types.Image(content = input_content)\n",
        "\n",
        "# text_response = client.text_detection(image=image)"
      ],
      "execution_count": 0,
      "outputs": []
    },
    {
      "cell_type": "code",
      "metadata": {
        "id": "-q9XflzI5z58",
        "colab_type": "code",
        "outputId": "a91655ed-4bb1-40aa-dcff-6e092baa2c9a",
        "colab": {
          "base_uri": "https://localhost:8080/",
          "height": 51
        }
      },
      "source": [
        "# show the best label\n",
        "web_response = client.web_detection(image = input_image)\n",
        "web_content = web_response.web_detection\n",
        "\n",
        "print(web_content.best_guess_labels)"
      ],
      "execution_count": 12,
      "outputs": [
        {
          "output_type": "stream",
          "text": [
            "[label: \"blazer\"\n",
            "]\n"
          ],
          "name": "stdout"
        }
      ]
    },
    {
      "cell_type": "code",
      "metadata": {
        "id": "NavbhGgK6Hag",
        "colab_type": "code",
        "outputId": "b90853d9-b5cf-484f-9bae-80006219a800",
        "colab": {
          "base_uri": "https://localhost:8080/",
          "height": 54
        }
      },
      "source": [
        "# this shows more possibilities of the content of the image\n",
        "predictions = [\n",
        "(entity.description, '{:.2%}'.format(entity.score)) for entity in web_content.web_entities\n",
        "]\n",
        "\n",
        "print(predictions)"
      ],
      "execution_count": 13,
      "outputs": [
        {
          "output_type": "stream",
          "text": [
            "[('Miss Universe 2004', '164.31%'), ('Beauty Pageant', '41.74%'), ('', '26.34%'), ('Blazer', '24.97%'), ('Model', '23.80%'), ('Vệt Thoi Gian', '23.29%'), ('Photo shoot', '22.98%'), ('Beauty', '20.43%'), ('Tuxedo M.', '18.64%'), ('Supermodel', '18.29%')]\n"
          ],
          "name": "stdout"
        }
      ]
    },
    {
      "cell_type": "code",
      "metadata": {
        "id": "qB78G0GC6SXp",
        "colab_type": "code",
        "outputId": "b2cc6d19-40c4-4390-ea90-b593d6bb7c63",
        "colab": {
          "base_uri": "https://localhost:8080/",
          "height": 122
        }
      },
      "source": [
        "# now, try get google to find other images similar to this\n",
        "# this is super cool if you like fashion or online shopping e.g. find a blazer \n",
        "web_content.visually_similar_images[:5]"
      ],
      "execution_count": 14,
      "outputs": [
        {
          "output_type": "execute_result",
          "data": {
            "text/plain": [
              "[url: \"https://fashionreportdaily.files.wordpress.com/2015/12/cara-delevingne-tuxedo.jpg?w=470\",\n",
              " url: \"https://www.bcbg.com/dw/image/v2/AAXX_PRD/on/demandware.static/-/Sites-bcbg-site-catalog/default/dwb3272e17/images/large/FSP4270717_690.jpg?sw=500&sh=791&sm=fit\",\n",
              " url: \"https://www.whistles.com/dw/image/v2/BDCH_PRD/on/demandware.static/-/Sites-whistles-master-catalog/default/dwfe56a151/images/00402955624/whistles-annie-wedding-blazer-ivory-multi-01.jpg?sw=571&sh=800&strip=false\",\n",
              " url: \"https://qph.fs.quoracdn.net/main-qimg-4b258837d965208edb3099bfc25f6f6a\",\n",
              " url: \"https://cache.net-a-porter.com/images/products/1213335/1213335_ou_920_q80.jpg\"]"
            ]
          },
          "metadata": {
            "tags": []
          },
          "execution_count": 14
        }
      ]
    },
    {
      "cell_type": "code",
      "metadata": {
        "id": "B7P6xLzR4948",
        "colab_type": "code",
        "outputId": "a1082dd5-e834-4b6e-ea1f-2d9846baae24",
        "colab": {
          "base_uri": "https://localhost:8080/",
          "height": 34
        }
      },
      "source": [
        "# Let’s have a look at what the Vision API can tell you about this photo\n",
        "\n",
        "image_to_open = 'jennifer hawkins.jpg'\n",
        "\n",
        "with open(image_to_open, 'rb') as image_file:\n",
        "    content = image_file.read()\n",
        "image = vision.types.Image(content=content)\n",
        "\n",
        "face_response = client.face_detection(image=image)\n",
        "face_content = face_response.face_annotations\n",
        "\n",
        "face_content[0].detection_confidence"
      ],
      "execution_count": 15,
      "outputs": [
        {
          "output_type": "execute_result",
          "data": {
            "text/plain": [
              "0.9772665500640869"
            ]
          },
          "metadata": {
            "tags": []
          },
          "execution_count": 15
        }
      ]
    },
    {
      "cell_type": "code",
      "metadata": {
        "id": "w4DU0CaQFaN2",
        "colab_type": "code",
        "outputId": "d4fe908d-f679-4e08-a29d-7a7805759951",
        "colab": {
          "base_uri": "https://localhost:8080/",
          "height": 136
        }
      },
      "source": [
        "# show the emotion state PLUS other attributes as well\n",
        "for face in face_response.face_annotations:\n",
        "    joy_likelihood = vision.enums.Likelihood(face.joy_likelihood)\n",
        "    sorrow_likelihood = vision.enums.Likelihood(face.sorrow_likelihood)\n",
        "    anger_likelihood = vision.enums.Likelihood(face.anger_likelihood)\n",
        "    surprise_likelihood = vision.enums.Likelihood(face.surprise_likelihood)\n",
        "    under_exposed_likelihood = vision.enums.Likelihood(face.under_exposed_likelihood)\n",
        "    blurred_likelihood = vision.enums.Likelihood(face.blurred_likelihood)\n",
        "    headwear_likelihood = vision.enums.Likelihood(face.headwear_likelihood)\n",
        "\n",
        "    print(f'Joy Likelihood: {joy_likelihood.name.title()}')\n",
        "    print(f'Sorrow Likelihood: {sorrow_likelihood.name.title()}')\n",
        "    print(f'Anger Likelihood: {anger_likelihood.name.title()}')\n",
        "    print(f'Surprise Likelihood: {surprise_likelihood.name.title()}')\n",
        "    print(f'Under Exposed Likelihood: {under_exposed_likelihood.name.title()}')\n",
        "    print(f'Blurred Likelihood: {blurred_likelihood.name.title()}')\n",
        "    print(f'Headwear Likelihood: {headwear_likelihood.name.title()}')\n"
      ],
      "execution_count": 16,
      "outputs": [
        {
          "output_type": "stream",
          "text": [
            "Joy Likelihood: Very_Likely\n",
            "Sorrow Likelihood: Very_Unlikely\n",
            "Anger Likelihood: Very_Unlikely\n",
            "Surprise Likelihood: Very_Unlikely\n",
            "Under Exposed Likelihood: Very_Unlikely\n",
            "Blurred Likelihood: Very_Unlikely\n",
            "Headwear Likelihood: Very_Unlikely\n"
          ],
          "name": "stdout"
        }
      ]
    },
    {
      "cell_type": "code",
      "metadata": {
        "id": "I3WDq_l73ZEu",
        "colab_type": "code",
        "outputId": "0479ac64-7971-4c60-d074-96b21c2865e2",
        "colab": {
          "base_uri": "https://localhost:8080/",
          "height": 1000
        }
      },
      "source": [
        "# show you the details extracted from the image\n",
        "face_content[0]"
      ],
      "execution_count": 0,
      "outputs": [
        {
          "output_type": "execute_result",
          "data": {
            "text/plain": [
              "bounding_poly {\n",
              "  vertices {\n",
              "    x: 398\n",
              "    y: 130\n",
              "  }\n",
              "  vertices {\n",
              "    x: 548\n",
              "    y: 130\n",
              "  }\n",
              "  vertices {\n",
              "    x: 548\n",
              "    y: 304\n",
              "  }\n",
              "  vertices {\n",
              "    x: 398\n",
              "    y: 304\n",
              "  }\n",
              "}\n",
              "fd_bounding_poly {\n",
              "  vertices {\n",
              "    x: 405\n",
              "    y: 162\n",
              "  }\n",
              "  vertices {\n",
              "    x: 538\n",
              "    y: 162\n",
              "  }\n",
              "  vertices {\n",
              "    x: 538\n",
              "    y: 295\n",
              "  }\n",
              "  vertices {\n",
              "    x: 405\n",
              "    y: 295\n",
              "  }\n",
              "}\n",
              "landmarks {\n",
              "  type: LEFT_EYE\n",
              "  position {\n",
              "    x: 449.4569396972656\n",
              "    y: 215.26197814941406\n",
              "    z: 8.106231689453125e-06\n",
              "  }\n",
              "}\n",
              "landmarks {\n",
              "  type: RIGHT_EYE\n",
              "  position {\n",
              "    x: 496.4911804199219\n",
              "    y: 220.11279296875\n",
              "    z: -1.222222089767456\n",
              "  }\n",
              "}\n",
              "landmarks {\n",
              "  type: LEFT_OF_LEFT_EYEBROW\n",
              "  position {\n",
              "    x: 436.37261962890625\n",
              "    y: 201.87356567382812\n",
              "    z: 3.3172688484191895\n",
              "  }\n",
              "}\n",
              "landmarks {\n",
              "  type: RIGHT_OF_LEFT_EYEBROW\n",
              "  position {\n",
              "    x: 463.2535705566406\n",
              "    y: 207.6814727783203\n",
              "    z: -9.787520408630371\n",
              "  }\n",
              "}\n",
              "landmarks {\n",
              "  type: LEFT_OF_RIGHT_EYEBROW\n",
              "  position {\n",
              "    x: 484.2760009765625\n",
              "    y: 208.3501739501953\n",
              "    z: -10.40173053741455\n",
              "  }\n",
              "}\n",
              "landmarks {\n",
              "  type: RIGHT_OF_RIGHT_EYEBROW\n",
              "  position {\n",
              "    x: 512.5509033203125\n",
              "    y: 212.03387451171875\n",
              "    z: 1.1345772743225098\n",
              "  }\n",
              "}\n",
              "landmarks {\n",
              "  type: MIDPOINT_BETWEEN_EYES\n",
              "  position {\n",
              "    x: 472.6172790527344\n",
              "    y: 218.40750122070312\n",
              "    z: -9.73638916015625\n",
              "  }\n",
              "}\n",
              "landmarks {\n",
              "  type: NOSE_TIP\n",
              "  position {\n",
              "    x: 469.5036926269531\n",
              "    y: 246.60821533203125\n",
              "    z: -19.921127319335938\n",
              "  }\n",
              "}\n",
              "landmarks {\n",
              "  type: UPPER_LIP\n",
              "  position {\n",
              "    x: 468.4908752441406\n",
              "    y: 259.88592529296875\n",
              "    z: -8.275175094604492\n",
              "  }\n",
              "}\n",
              "landmarks {\n",
              "  type: LOWER_LIP\n",
              "  position {\n",
              "    x: 466.7566833496094\n",
              "    y: 276.70684814453125\n",
              "    z: -3.522792100906372\n",
              "  }\n",
              "}\n",
              "landmarks {\n",
              "  type: MOUTH_LEFT\n",
              "  position {\n",
              "    x: 447.1762390136719\n",
              "    y: 259.1044921875\n",
              "    z: 4.95035457611084\n",
              "  }\n",
              "}\n",
              "landmarks {\n",
              "  type: MOUTH_RIGHT\n",
              "  position {\n",
              "    x: 490.63763427734375\n",
              "    y: 264.1582946777344\n",
              "    z: 3.828261137008667\n",
              "  }\n",
              "}\n",
              "landmarks {\n",
              "  type: MOUTH_CENTER\n",
              "  position {\n",
              "    x: 468.21258544921875\n",
              "    y: 267.3345031738281\n",
              "    z: -4.322506904602051\n",
              "  }\n",
              "}\n",
              "landmarks {\n",
              "  type: NOSE_BOTTOM_RIGHT\n",
              "  position {\n",
              "    x: 482.8931884765625\n",
              "    y: 250.3800048828125\n",
              "    z: -3.755239248275757\n",
              "  }\n",
              "}\n",
              "landmarks {\n",
              "  type: NOSE_BOTTOM_LEFT\n",
              "  position {\n",
              "    x: 458.2505798339844\n",
              "    y: 245.32803344726562\n",
              "    z: -2.845073699951172\n",
              "  }\n",
              "}\n",
              "landmarks {\n",
              "  type: NOSE_BOTTOM_CENTER\n",
              "  position {\n",
              "    x: 469.7291259765625\n",
              "    y: 252.6595001220703\n",
              "    z: -9.359169006347656\n",
              "  }\n",
              "}\n",
              "landmarks {\n",
              "  type: LEFT_EYE_TOP_BOUNDARY\n",
              "  position {\n",
              "    x: 449.2431640625\n",
              "    y: 210.810302734375\n",
              "    z: -2.8766043186187744\n",
              "  }\n",
              "}\n",
              "landmarks {\n",
              "  type: LEFT_EYE_RIGHT_CORNER\n",
              "  position {\n",
              "    x: 458.6714172363281\n",
              "    y: 217.66285705566406\n",
              "    z: -0.17160487174987793\n",
              "  }\n",
              "}\n",
              "landmarks {\n",
              "  type: LEFT_EYE_BOTTOM_BOUNDARY\n",
              "  position {\n",
              "    x: 448.5671691894531\n",
              "    y: 218.70611572265625\n",
              "    z: -0.11744117736816406\n",
              "  }\n",
              "}\n",
              "landmarks {\n",
              "  type: LEFT_EYE_LEFT_CORNER\n",
              "  position {\n",
              "    x: 440.5672607421875\n",
              "    y: 214.5165252685547\n",
              "    z: 4.236023426055908\n",
              "  }\n",
              "}\n",
              "landmarks {\n",
              "  type: RIGHT_EYE_TOP_BOUNDARY\n",
              "  position {\n",
              "    x: 497.5151672363281\n",
              "    y: 215.71893310546875\n",
              "    z: -4.134038925170898\n",
              "  }\n",
              "}\n",
              "landmarks {\n",
              "  type: RIGHT_EYE_RIGHT_CORNER\n",
              "  position {\n",
              "    x: 506.5836181640625\n",
              "    y: 222.17752075195312\n",
              "    z: 2.452730894088745\n",
              "  }\n",
              "}\n",
              "landmarks {\n",
              "  type: RIGHT_EYE_BOTTOM_BOUNDARY\n",
              "  position {\n",
              "    x: 496.6138610839844\n",
              "    y: 223.88290405273438\n",
              "    z: -1.369011402130127\n",
              "  }\n",
              "}\n",
              "landmarks {\n",
              "  type: RIGHT_EYE_LEFT_CORNER\n",
              "  position {\n",
              "    x: 486.84698486328125\n",
              "    y: 219.6917724609375\n",
              "    z: -0.9084391593933105\n",
              "  }\n",
              "}\n",
              "landmarks {\n",
              "  type: LEFT_EYEBROW_UPPER_MIDPOINT\n",
              "  position {\n",
              "    x: 449.9854736328125\n",
              "    y: 200.94866943359375\n",
              "    z: -6.414816856384277\n",
              "  }\n",
              "}\n",
              "landmarks {\n",
              "  type: RIGHT_EYEBROW_UPPER_MIDPOINT\n",
              "  position {\n",
              "    x: 498.3975524902344\n",
              "    y: 205.8766632080078\n",
              "    z: -7.762148857116699\n",
              "  }\n",
              "}\n",
              "landmarks {\n",
              "  type: LEFT_EAR_TRAGION\n",
              "  position {\n",
              "    x: 424.3334045410156\n",
              "    y: 222.815673828125\n",
              "    z: 56.96705627441406\n",
              "  }\n",
              "}\n",
              "landmarks {\n",
              "  type: RIGHT_EAR_TRAGION\n",
              "  position {\n",
              "    x: 522.9660034179688\n",
              "    y: 235.84942626953125\n",
              "    z: 54.09107208251953\n",
              "  }\n",
              "}\n",
              "landmarks {\n",
              "  type: FOREHEAD_GLABELLA\n",
              "  position {\n",
              "    x: 473.4705810546875\n",
              "    y: 208.47608947753906\n",
              "    z: -11.624345779418945\n",
              "  }\n",
              "}\n",
              "landmarks {\n",
              "  type: CHIN_GNATHION\n",
              "  position {\n",
              "    x: 464.7622985839844\n",
              "    y: 298.05316162109375\n",
              "    z: 4.852551460266113\n",
              "  }\n",
              "}\n",
              "landmarks {\n",
              "  type: CHIN_LEFT_GONION\n",
              "  position {\n",
              "    x: 431.3893127441406\n",
              "    y: 261.7608642578125\n",
              "    z: 42.7491569519043\n",
              "  }\n",
              "}\n",
              "landmarks {\n",
              "  type: CHIN_RIGHT_GONION\n",
              "  position {\n",
              "    x: 506.1607971191406\n",
              "    y: 272.6075439453125\n",
              "    z: 40.59019470214844\n",
              "  }\n",
              "}\n",
              "landmarks {\n",
              "  position {\n",
              "    x: 438.02349853515625\n",
              "    y: 242.18190002441406\n",
              "    z: 7.4717254638671875\n",
              "  }\n",
              "}\n",
              "landmarks {\n",
              "  position {\n",
              "    x: 503.8749694824219\n",
              "    y: 249.8268585205078\n",
              "    z: 5.708468437194824\n",
              "  }\n",
              "}\n",
              "roll_angle: 5.7494964599609375\n",
              "pan_angle: -1.5245335102081299\n",
              "tilt_angle: -6.797290802001953\n",
              "detection_confidence: 0.9772664308547974\n",
              "landmarking_confidence: 0.7045007348060608\n",
              "joy_likelihood: VERY_LIKELY\n",
              "sorrow_likelihood: VERY_UNLIKELY\n",
              "anger_likelihood: VERY_UNLIKELY\n",
              "surprise_likelihood: VERY_UNLIKELY\n",
              "under_exposed_likelihood: VERY_UNLIKELY\n",
              "blurred_likelihood: VERY_UNLIKELY\n",
              "headwear_likelihood: VERY_UNLIKELY"
            ]
          },
          "metadata": {
            "tags": []
          },
          "execution_count": 89
        }
      ]
    }
  ]
}